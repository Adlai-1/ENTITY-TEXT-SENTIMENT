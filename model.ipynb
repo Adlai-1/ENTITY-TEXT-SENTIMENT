{
 "cells": [
  {
   "cell_type": "code",
   "execution_count": 1,
   "metadata": {},
   "outputs": [],
   "source": [
    "# imports\n",
    "import numpy as np\n",
    "import pandas as pd\n",
    "import tensorflow as tf"
   ]
  },
  {
   "cell_type": "code",
   "execution_count": 2,
   "metadata": {},
   "outputs": [
    {
     "data": {
      "text/html": [
       "<div>\n",
       "<style scoped>\n",
       "    .dataframe tbody tr th:only-of-type {\n",
       "        vertical-align: middle;\n",
       "    }\n",
       "\n",
       "    .dataframe tbody tr th {\n",
       "        vertical-align: top;\n",
       "    }\n",
       "\n",
       "    .dataframe thead th {\n",
       "        text-align: right;\n",
       "    }\n",
       "</style>\n",
       "<table border=\"1\" class=\"dataframe\">\n",
       "  <thead>\n",
       "    <tr style=\"text-align: right;\">\n",
       "      <th></th>\n",
       "      <th>2401</th>\n",
       "      <th>Borderlands</th>\n",
       "      <th>Positive</th>\n",
       "      <th>im getting on borderlands and i will murder you all ,</th>\n",
       "    </tr>\n",
       "  </thead>\n",
       "  <tbody>\n",
       "    <tr>\n",
       "      <th>0</th>\n",
       "      <td>2401</td>\n",
       "      <td>Borderlands</td>\n",
       "      <td>Positive</td>\n",
       "      <td>I am coming to the borders and I will kill you...</td>\n",
       "    </tr>\n",
       "    <tr>\n",
       "      <th>1</th>\n",
       "      <td>2401</td>\n",
       "      <td>Borderlands</td>\n",
       "      <td>Positive</td>\n",
       "      <td>im getting on borderlands and i will kill you ...</td>\n",
       "    </tr>\n",
       "    <tr>\n",
       "      <th>2</th>\n",
       "      <td>2401</td>\n",
       "      <td>Borderlands</td>\n",
       "      <td>Positive</td>\n",
       "      <td>im coming on borderlands and i will murder you...</td>\n",
       "    </tr>\n",
       "    <tr>\n",
       "      <th>3</th>\n",
       "      <td>2401</td>\n",
       "      <td>Borderlands</td>\n",
       "      <td>Positive</td>\n",
       "      <td>im getting on borderlands 2 and i will murder ...</td>\n",
       "    </tr>\n",
       "    <tr>\n",
       "      <th>4</th>\n",
       "      <td>2401</td>\n",
       "      <td>Borderlands</td>\n",
       "      <td>Positive</td>\n",
       "      <td>im getting into borderlands and i can murder y...</td>\n",
       "    </tr>\n",
       "  </tbody>\n",
       "</table>\n",
       "</div>"
      ],
      "text/plain": [
       "   2401  Borderlands  Positive  \\\n",
       "0  2401  Borderlands  Positive   \n",
       "1  2401  Borderlands  Positive   \n",
       "2  2401  Borderlands  Positive   \n",
       "3  2401  Borderlands  Positive   \n",
       "4  2401  Borderlands  Positive   \n",
       "\n",
       "  im getting on borderlands and i will murder you all ,  \n",
       "0  I am coming to the borders and I will kill you...     \n",
       "1  im getting on borderlands and i will kill you ...     \n",
       "2  im coming on borderlands and i will murder you...     \n",
       "3  im getting on borderlands 2 and i will murder ...     \n",
       "4  im getting into borderlands and i can murder y...     "
      ]
     },
     "execution_count": 2,
     "metadata": {},
     "output_type": "execute_result"
    }
   ],
   "source": [
    "# open and read [i.e. first 5 entries] training data\n",
    "Data = pd.read_csv('./Dataset/twitter_training.csv')\n",
    "Data.head()"
   ]
  },
  {
   "cell_type": "code",
   "execution_count": 3,
   "metadata": {},
   "outputs": [
    {
     "data": {
      "text/plain": [
       "(74681, 4)"
      ]
     },
     "execution_count": 3,
     "metadata": {},
     "output_type": "execute_result"
    }
   ],
   "source": [
    "# A little bit of Data exploraton to understand the data\n",
    "Data.shape # info on total entries"
   ]
  },
  {
   "cell_type": "code",
   "execution_count": 4,
   "metadata": {},
   "outputs": [
    {
     "name": "stdout",
     "output_type": "stream",
     "text": [
      "<class 'pandas.core.frame.DataFrame'>\n",
      "RangeIndex: 74681 entries, 0 to 74680\n",
      "Data columns (total 4 columns):\n",
      " #   Column                                                 Non-Null Count  Dtype \n",
      "---  ------                                                 --------------  ----- \n",
      " 0   2401                                                   74681 non-null  int64 \n",
      " 1   Borderlands                                            74681 non-null  object\n",
      " 2   Positive                                               74681 non-null  object\n",
      " 3   im getting on borderlands and i will murder you all ,  73995 non-null  object\n",
      "dtypes: int64(1), object(3)\n",
      "memory usage: 2.3+ MB\n"
     ]
    }
   ],
   "source": [
    "# general info about the dataset\n",
    "Data.info()"
   ]
  },
  {
   "cell_type": "code",
   "execution_count": 5,
   "metadata": {},
   "outputs": [
    {
     "data": {
      "text/plain": [
       "2401                                                     12447\n",
       "Borderlands                                                 32\n",
       "Positive                                                     4\n",
       "im getting on borderlands and i will murder you all ,    69490\n",
       "dtype: int64"
      ]
     },
     "execution_count": 5,
     "metadata": {},
     "output_type": "execute_result"
    }
   ],
   "source": [
    "# know the different unique entries...\n",
    "Data.nunique()"
   ]
  },
  {
   "cell_type": "code",
   "execution_count": 6,
   "metadata": {},
   "outputs": [
    {
     "data": {
      "text/plain": [
       "2700"
      ]
     },
     "execution_count": 6,
     "metadata": {},
     "output_type": "execute_result"
    }
   ],
   "source": [
    "# determine how many duplicates there are\n",
    "Data.duplicated().sum()"
   ]
  },
  {
   "cell_type": "code",
   "execution_count": 7,
   "metadata": {},
   "outputs": [],
   "source": [
    "# drop all duplicates from our dataset\n",
    "Data.drop_duplicates(inplace=True)"
   ]
  },
  {
   "cell_type": "code",
   "execution_count": 8,
   "metadata": {},
   "outputs": [
    {
     "data": {
      "text/plain": [
       "0"
      ]
     },
     "execution_count": 8,
     "metadata": {},
     "output_type": "execute_result"
    }
   ],
   "source": [
    "# re-check to see if job was done\n",
    "Data.duplicated().sum()"
   ]
  },
  {
   "cell_type": "code",
   "execution_count": 9,
   "metadata": {},
   "outputs": [
    {
     "data": {
      "text/plain": [
       "(71981, 4)"
      ]
     },
     "execution_count": 9,
     "metadata": {},
     "output_type": "execute_result"
    }
   ],
   "source": [
    "# Size of our dataset after\n",
    "Data.shape"
   ]
  },
  {
   "cell_type": "code",
   "execution_count": 10,
   "metadata": {},
   "outputs": [
    {
     "data": {
      "text/plain": [
       "Index(['2401', 'Borderlands', 'Positive',\n",
       "       'im getting on borderlands and i will murder you all ,'],\n",
       "      dtype='object')"
      ]
     },
     "execution_count": 10,
     "metadata": {},
     "output_type": "execute_result"
    }
   ],
   "source": [
    "# Know the columns we dealing with in this dataset\n",
    "Data.columns"
   ]
  },
  {
   "cell_type": "code",
   "execution_count": 11,
   "metadata": {},
   "outputs": [
    {
     "data": {
      "text/html": [
       "<div>\n",
       "<style scoped>\n",
       "    .dataframe tbody tr th:only-of-type {\n",
       "        vertical-align: middle;\n",
       "    }\n",
       "\n",
       "    .dataframe tbody tr th {\n",
       "        vertical-align: top;\n",
       "    }\n",
       "\n",
       "    .dataframe thead th {\n",
       "        text-align: right;\n",
       "    }\n",
       "</style>\n",
       "<table border=\"1\" class=\"dataframe\">\n",
       "  <thead>\n",
       "    <tr style=\"text-align: right;\">\n",
       "      <th></th>\n",
       "      <th>#Text</th>\n",
       "      <th>Entity</th>\n",
       "      <th>Sentiment</th>\n",
       "      <th>Text</th>\n",
       "    </tr>\n",
       "  </thead>\n",
       "  <tbody>\n",
       "    <tr>\n",
       "      <th>0</th>\n",
       "      <td>2401</td>\n",
       "      <td>Borderlands</td>\n",
       "      <td>Positive</td>\n",
       "      <td>I am coming to the borders and I will kill you...</td>\n",
       "    </tr>\n",
       "    <tr>\n",
       "      <th>1</th>\n",
       "      <td>2401</td>\n",
       "      <td>Borderlands</td>\n",
       "      <td>Positive</td>\n",
       "      <td>im getting on borderlands and i will kill you ...</td>\n",
       "    </tr>\n",
       "    <tr>\n",
       "      <th>2</th>\n",
       "      <td>2401</td>\n",
       "      <td>Borderlands</td>\n",
       "      <td>Positive</td>\n",
       "      <td>im coming on borderlands and i will murder you...</td>\n",
       "    </tr>\n",
       "    <tr>\n",
       "      <th>3</th>\n",
       "      <td>2401</td>\n",
       "      <td>Borderlands</td>\n",
       "      <td>Positive</td>\n",
       "      <td>im getting on borderlands 2 and i will murder ...</td>\n",
       "    </tr>\n",
       "    <tr>\n",
       "      <th>4</th>\n",
       "      <td>2401</td>\n",
       "      <td>Borderlands</td>\n",
       "      <td>Positive</td>\n",
       "      <td>im getting into borderlands and i can murder y...</td>\n",
       "    </tr>\n",
       "  </tbody>\n",
       "</table>\n",
       "</div>"
      ],
      "text/plain": [
       "   #Text       Entity Sentiment  \\\n",
       "0   2401  Borderlands  Positive   \n",
       "1   2401  Borderlands  Positive   \n",
       "2   2401  Borderlands  Positive   \n",
       "3   2401  Borderlands  Positive   \n",
       "4   2401  Borderlands  Positive   \n",
       "\n",
       "                                                Text  \n",
       "0  I am coming to the borders and I will kill you...  \n",
       "1  im getting on borderlands and i will kill you ...  \n",
       "2  im coming on borderlands and i will murder you...  \n",
       "3  im getting on borderlands 2 and i will murder ...  \n",
       "4  im getting into borderlands and i can murder y...  "
      ]
     },
     "execution_count": 11,
     "metadata": {},
     "output_type": "execute_result"
    }
   ],
   "source": [
    "# Rename the columns in our dataset\n",
    "Data.rename(columns={\"2401\": \"#Text\", \"Borderlands\": \"Entity\", \"Positive\": \"Sentiment\", \n",
    "                     \"im getting on borderlands and i will murder you all ,\": \"Text\"}, inplace=True)\n",
    "Data.head()"
   ]
  },
  {
   "cell_type": "code",
   "execution_count": 12,
   "metadata": {},
   "outputs": [
    {
     "data": {
      "text/html": [
       "<div>\n",
       "<style scoped>\n",
       "    .dataframe tbody tr th:only-of-type {\n",
       "        vertical-align: middle;\n",
       "    }\n",
       "\n",
       "    .dataframe tbody tr th {\n",
       "        vertical-align: top;\n",
       "    }\n",
       "\n",
       "    .dataframe thead th {\n",
       "        text-align: right;\n",
       "    }\n",
       "</style>\n",
       "<table border=\"1\" class=\"dataframe\">\n",
       "  <thead>\n",
       "    <tr style=\"text-align: right;\">\n",
       "      <th></th>\n",
       "      <th>#Text</th>\n",
       "      <th>Entity</th>\n",
       "      <th>Text</th>\n",
       "    </tr>\n",
       "    <tr>\n",
       "      <th>Sentiment</th>\n",
       "      <th></th>\n",
       "      <th></th>\n",
       "      <th></th>\n",
       "    </tr>\n",
       "  </thead>\n",
       "  <tbody>\n",
       "    <tr>\n",
       "      <th>Irrelevant</th>\n",
       "      <td>12584</td>\n",
       "      <td>12584</td>\n",
       "      <td>12537</td>\n",
       "    </tr>\n",
       "    <tr>\n",
       "      <th>Negative</th>\n",
       "      <td>21787</td>\n",
       "      <td>21787</td>\n",
       "      <td>21698</td>\n",
       "    </tr>\n",
       "    <tr>\n",
       "      <th>Neutral</th>\n",
       "      <td>17800</td>\n",
       "      <td>17800</td>\n",
       "      <td>17708</td>\n",
       "    </tr>\n",
       "    <tr>\n",
       "      <th>Positive</th>\n",
       "      <td>19810</td>\n",
       "      <td>19810</td>\n",
       "      <td>19712</td>\n",
       "    </tr>\n",
       "  </tbody>\n",
       "</table>\n",
       "</div>"
      ],
      "text/plain": [
       "            #Text  Entity   Text\n",
       "Sentiment                       \n",
       "Irrelevant  12584   12584  12537\n",
       "Negative    21787   21787  21698\n",
       "Neutral     17800   17800  17708\n",
       "Positive    19810   19810  19712"
      ]
     },
     "execution_count": 12,
     "metadata": {},
     "output_type": "execute_result"
    }
   ],
   "source": [
    "# Want to know the sentiment category in our dataset as well as their entry count\n",
    "Data.groupby('Sentiment').count()"
   ]
  },
  {
   "cell_type": "code",
   "execution_count": 13,
   "metadata": {},
   "outputs": [
    {
     "data": {
      "text/html": [
       "<div>\n",
       "<style scoped>\n",
       "    .dataframe tbody tr th:only-of-type {\n",
       "        vertical-align: middle;\n",
       "    }\n",
       "\n",
       "    .dataframe tbody tr th {\n",
       "        vertical-align: top;\n",
       "    }\n",
       "\n",
       "    .dataframe thead th {\n",
       "        text-align: right;\n",
       "    }\n",
       "</style>\n",
       "<table border=\"1\" class=\"dataframe\">\n",
       "  <thead>\n",
       "    <tr style=\"text-align: right;\">\n",
       "      <th></th>\n",
       "      <th>#Text</th>\n",
       "      <th>Sentiment</th>\n",
       "      <th>Text</th>\n",
       "    </tr>\n",
       "    <tr>\n",
       "      <th>Entity</th>\n",
       "      <th></th>\n",
       "      <th></th>\n",
       "      <th></th>\n",
       "    </tr>\n",
       "  </thead>\n",
       "  <tbody>\n",
       "    <tr>\n",
       "      <th>Amazon</th>\n",
       "      <td>2264</td>\n",
       "      <td>2264</td>\n",
       "      <td>2249</td>\n",
       "    </tr>\n",
       "    <tr>\n",
       "      <th>ApexLegends</th>\n",
       "      <td>2289</td>\n",
       "      <td>2289</td>\n",
       "      <td>2278</td>\n",
       "    </tr>\n",
       "    <tr>\n",
       "      <th>AssassinsCreed</th>\n",
       "      <td>2160</td>\n",
       "      <td>2160</td>\n",
       "      <td>2156</td>\n",
       "    </tr>\n",
       "    <tr>\n",
       "      <th>Battlefield</th>\n",
       "      <td>2267</td>\n",
       "      <td>2267</td>\n",
       "      <td>2255</td>\n",
       "    </tr>\n",
       "    <tr>\n",
       "      <th>Borderlands</th>\n",
       "      <td>2210</td>\n",
       "      <td>2210</td>\n",
       "      <td>2205</td>\n",
       "    </tr>\n",
       "    <tr>\n",
       "      <th>CS-GO</th>\n",
       "      <td>2207</td>\n",
       "      <td>2207</td>\n",
       "      <td>2195</td>\n",
       "    </tr>\n",
       "    <tr>\n",
       "      <th>CallOfDuty</th>\n",
       "      <td>2322</td>\n",
       "      <td>2322</td>\n",
       "      <td>2314</td>\n",
       "    </tr>\n",
       "    <tr>\n",
       "      <th>CallOfDutyBlackopsColdWar</th>\n",
       "      <td>2261</td>\n",
       "      <td>2261</td>\n",
       "      <td>2242</td>\n",
       "    </tr>\n",
       "    <tr>\n",
       "      <th>Cyberpunk2077</th>\n",
       "      <td>2193</td>\n",
       "      <td>2193</td>\n",
       "      <td>2175</td>\n",
       "    </tr>\n",
       "    <tr>\n",
       "      <th>Dota2</th>\n",
       "      <td>2229</td>\n",
       "      <td>2229</td>\n",
       "      <td>2225</td>\n",
       "    </tr>\n",
       "    <tr>\n",
       "      <th>FIFA</th>\n",
       "      <td>2245</td>\n",
       "      <td>2245</td>\n",
       "      <td>2238</td>\n",
       "    </tr>\n",
       "    <tr>\n",
       "      <th>Facebook</th>\n",
       "      <td>2293</td>\n",
       "      <td>2293</td>\n",
       "      <td>2289</td>\n",
       "    </tr>\n",
       "    <tr>\n",
       "      <th>Fortnite</th>\n",
       "      <td>2187</td>\n",
       "      <td>2187</td>\n",
       "      <td>2176</td>\n",
       "    </tr>\n",
       "    <tr>\n",
       "      <th>Google</th>\n",
       "      <td>2210</td>\n",
       "      <td>2210</td>\n",
       "      <td>2199</td>\n",
       "    </tr>\n",
       "    <tr>\n",
       "      <th>GrandTheftAuto(GTA)</th>\n",
       "      <td>2214</td>\n",
       "      <td>2214</td>\n",
       "      <td>2208</td>\n",
       "    </tr>\n",
       "    <tr>\n",
       "      <th>Hearthstone</th>\n",
       "      <td>2227</td>\n",
       "      <td>2227</td>\n",
       "      <td>2219</td>\n",
       "    </tr>\n",
       "    <tr>\n",
       "      <th>HomeDepot</th>\n",
       "      <td>2226</td>\n",
       "      <td>2226</td>\n",
       "      <td>2216</td>\n",
       "    </tr>\n",
       "    <tr>\n",
       "      <th>LeagueOfLegends</th>\n",
       "      <td>2303</td>\n",
       "      <td>2303</td>\n",
       "      <td>2296</td>\n",
       "    </tr>\n",
       "    <tr>\n",
       "      <th>MaddenNFL</th>\n",
       "      <td>2324</td>\n",
       "      <td>2324</td>\n",
       "      <td>2315</td>\n",
       "    </tr>\n",
       "    <tr>\n",
       "      <th>Microsoft</th>\n",
       "      <td>2319</td>\n",
       "      <td>2319</td>\n",
       "      <td>2304</td>\n",
       "    </tr>\n",
       "    <tr>\n",
       "      <th>NBA2K</th>\n",
       "      <td>2306</td>\n",
       "      <td>2306</td>\n",
       "      <td>2299</td>\n",
       "    </tr>\n",
       "    <tr>\n",
       "      <th>Nvidia</th>\n",
       "      <td>2211</td>\n",
       "      <td>2211</td>\n",
       "      <td>2198</td>\n",
       "    </tr>\n",
       "    <tr>\n",
       "      <th>Overwatch</th>\n",
       "      <td>2229</td>\n",
       "      <td>2229</td>\n",
       "      <td>2220</td>\n",
       "    </tr>\n",
       "    <tr>\n",
       "      <th>PlayStation5(PS5)</th>\n",
       "      <td>2196</td>\n",
       "      <td>2196</td>\n",
       "      <td>2183</td>\n",
       "    </tr>\n",
       "    <tr>\n",
       "      <th>PlayerUnknownsBattlegrounds(PUBG)</th>\n",
       "      <td>2167</td>\n",
       "      <td>2167</td>\n",
       "      <td>2150</td>\n",
       "    </tr>\n",
       "    <tr>\n",
       "      <th>RedDeadRedemption(RDR)</th>\n",
       "      <td>2162</td>\n",
       "      <td>2162</td>\n",
       "      <td>2155</td>\n",
       "    </tr>\n",
       "    <tr>\n",
       "      <th>TomClancysGhostRecon</th>\n",
       "      <td>2301</td>\n",
       "      <td>2301</td>\n",
       "      <td>2291</td>\n",
       "    </tr>\n",
       "    <tr>\n",
       "      <th>TomClancysRainbowSix</th>\n",
       "      <td>2344</td>\n",
       "      <td>2344</td>\n",
       "      <td>2328</td>\n",
       "    </tr>\n",
       "    <tr>\n",
       "      <th>Verizon</th>\n",
       "      <td>2328</td>\n",
       "      <td>2328</td>\n",
       "      <td>2319</td>\n",
       "    </tr>\n",
       "    <tr>\n",
       "      <th>WorldOfCraft</th>\n",
       "      <td>2304</td>\n",
       "      <td>2304</td>\n",
       "      <td>2300</td>\n",
       "    </tr>\n",
       "    <tr>\n",
       "      <th>Xbox(Xseries)</th>\n",
       "      <td>2222</td>\n",
       "      <td>2222</td>\n",
       "      <td>2201</td>\n",
       "    </tr>\n",
       "    <tr>\n",
       "      <th>johnson&amp;johnson</th>\n",
       "      <td>2261</td>\n",
       "      <td>2261</td>\n",
       "      <td>2257</td>\n",
       "    </tr>\n",
       "  </tbody>\n",
       "</table>\n",
       "</div>"
      ],
      "text/plain": [
       "                                   #Text  Sentiment  Text\n",
       "Entity                                                   \n",
       "Amazon                              2264       2264  2249\n",
       "ApexLegends                         2289       2289  2278\n",
       "AssassinsCreed                      2160       2160  2156\n",
       "Battlefield                         2267       2267  2255\n",
       "Borderlands                         2210       2210  2205\n",
       "CS-GO                               2207       2207  2195\n",
       "CallOfDuty                          2322       2322  2314\n",
       "CallOfDutyBlackopsColdWar           2261       2261  2242\n",
       "Cyberpunk2077                       2193       2193  2175\n",
       "Dota2                               2229       2229  2225\n",
       "FIFA                                2245       2245  2238\n",
       "Facebook                            2293       2293  2289\n",
       "Fortnite                            2187       2187  2176\n",
       "Google                              2210       2210  2199\n",
       "GrandTheftAuto(GTA)                 2214       2214  2208\n",
       "Hearthstone                         2227       2227  2219\n",
       "HomeDepot                           2226       2226  2216\n",
       "LeagueOfLegends                     2303       2303  2296\n",
       "MaddenNFL                           2324       2324  2315\n",
       "Microsoft                           2319       2319  2304\n",
       "NBA2K                               2306       2306  2299\n",
       "Nvidia                              2211       2211  2198\n",
       "Overwatch                           2229       2229  2220\n",
       "PlayStation5(PS5)                   2196       2196  2183\n",
       "PlayerUnknownsBattlegrounds(PUBG)   2167       2167  2150\n",
       "RedDeadRedemption(RDR)              2162       2162  2155\n",
       "TomClancysGhostRecon                2301       2301  2291\n",
       "TomClancysRainbowSix                2344       2344  2328\n",
       "Verizon                             2328       2328  2319\n",
       "WorldOfCraft                        2304       2304  2300\n",
       "Xbox(Xseries)                       2222       2222  2201\n",
       "johnson&johnson                     2261       2261  2257"
      ]
     },
     "execution_count": 13,
     "metadata": {},
     "output_type": "execute_result"
    }
   ],
   "source": [
    "# Want to know the entites in our dataset as well as their entry count\n",
    "Data.groupby('Entity').count()"
   ]
  },
  {
   "cell_type": "code",
   "execution_count": 14,
   "metadata": {},
   "outputs": [
    {
     "data": {
      "text/html": [
       "<div>\n",
       "<style scoped>\n",
       "    .dataframe tbody tr th:only-of-type {\n",
       "        vertical-align: middle;\n",
       "    }\n",
       "\n",
       "    .dataframe tbody tr th {\n",
       "        vertical-align: top;\n",
       "    }\n",
       "\n",
       "    .dataframe thead th {\n",
       "        text-align: right;\n",
       "    }\n",
       "</style>\n",
       "<table border=\"1\" class=\"dataframe\">\n",
       "  <thead>\n",
       "    <tr style=\"text-align: right;\">\n",
       "      <th></th>\n",
       "      <th>Entity</th>\n",
       "      <th>Sentiment</th>\n",
       "      <th>Text</th>\n",
       "    </tr>\n",
       "  </thead>\n",
       "  <tbody>\n",
       "    <tr>\n",
       "      <th>0</th>\n",
       "      <td>Borderlands</td>\n",
       "      <td>Positive</td>\n",
       "      <td>I am coming to the borders and I will kill you...</td>\n",
       "    </tr>\n",
       "    <tr>\n",
       "      <th>1</th>\n",
       "      <td>Borderlands</td>\n",
       "      <td>Positive</td>\n",
       "      <td>im getting on borderlands and i will kill you ...</td>\n",
       "    </tr>\n",
       "    <tr>\n",
       "      <th>2</th>\n",
       "      <td>Borderlands</td>\n",
       "      <td>Positive</td>\n",
       "      <td>im coming on borderlands and i will murder you...</td>\n",
       "    </tr>\n",
       "    <tr>\n",
       "      <th>3</th>\n",
       "      <td>Borderlands</td>\n",
       "      <td>Positive</td>\n",
       "      <td>im getting on borderlands 2 and i will murder ...</td>\n",
       "    </tr>\n",
       "    <tr>\n",
       "      <th>4</th>\n",
       "      <td>Borderlands</td>\n",
       "      <td>Positive</td>\n",
       "      <td>im getting into borderlands and i can murder y...</td>\n",
       "    </tr>\n",
       "  </tbody>\n",
       "</table>\n",
       "</div>"
      ],
      "text/plain": [
       "        Entity Sentiment                                               Text\n",
       "0  Borderlands  Positive  I am coming to the borders and I will kill you...\n",
       "1  Borderlands  Positive  im getting on borderlands and i will kill you ...\n",
       "2  Borderlands  Positive  im coming on borderlands and i will murder you...\n",
       "3  Borderlands  Positive  im getting on borderlands 2 and i will murder ...\n",
       "4  Borderlands  Positive  im getting into borderlands and i can murder y..."
      ]
     },
     "execution_count": 14,
     "metadata": {},
     "output_type": "execute_result"
    }
   ],
   "source": [
    "# Drop unwanted columns\n",
    "Data.drop(columns=['#Text'], inplace=True)\n",
    "Data.head()"
   ]
  },
  {
   "cell_type": "code",
   "execution_count": 15,
   "metadata": {},
   "outputs": [],
   "source": [
    "# encode Sentiments into values\n",
    "Data['Sentiment'].replace({'Positive': 1, 'Negative': 0, 'Neutral': 2, 'Irrelevant': 3}, inplace=True)"
   ]
  },
  {
   "cell_type": "code",
   "execution_count": 16,
   "metadata": {},
   "outputs": [
    {
     "data": {
      "text/html": [
       "<div>\n",
       "<style scoped>\n",
       "    .dataframe tbody tr th:only-of-type {\n",
       "        vertical-align: middle;\n",
       "    }\n",
       "\n",
       "    .dataframe tbody tr th {\n",
       "        vertical-align: top;\n",
       "    }\n",
       "\n",
       "    .dataframe thead th {\n",
       "        text-align: right;\n",
       "    }\n",
       "</style>\n",
       "<table border=\"1\" class=\"dataframe\">\n",
       "  <thead>\n",
       "    <tr style=\"text-align: right;\">\n",
       "      <th></th>\n",
       "      <th>Entity</th>\n",
       "      <th>Sentiment</th>\n",
       "      <th>Text</th>\n",
       "    </tr>\n",
       "  </thead>\n",
       "  <tbody>\n",
       "    <tr>\n",
       "      <th>0</th>\n",
       "      <td>Borderlands</td>\n",
       "      <td>1</td>\n",
       "      <td>I am coming to the borders and I will kill you...</td>\n",
       "    </tr>\n",
       "    <tr>\n",
       "      <th>1</th>\n",
       "      <td>Borderlands</td>\n",
       "      <td>1</td>\n",
       "      <td>im getting on borderlands and i will kill you ...</td>\n",
       "    </tr>\n",
       "    <tr>\n",
       "      <th>2</th>\n",
       "      <td>Borderlands</td>\n",
       "      <td>1</td>\n",
       "      <td>im coming on borderlands and i will murder you...</td>\n",
       "    </tr>\n",
       "    <tr>\n",
       "      <th>3</th>\n",
       "      <td>Borderlands</td>\n",
       "      <td>1</td>\n",
       "      <td>im getting on borderlands 2 and i will murder ...</td>\n",
       "    </tr>\n",
       "    <tr>\n",
       "      <th>4</th>\n",
       "      <td>Borderlands</td>\n",
       "      <td>1</td>\n",
       "      <td>im getting into borderlands and i can murder y...</td>\n",
       "    </tr>\n",
       "  </tbody>\n",
       "</table>\n",
       "</div>"
      ],
      "text/plain": [
       "        Entity  Sentiment                                               Text\n",
       "0  Borderlands          1  I am coming to the borders and I will kill you...\n",
       "1  Borderlands          1  im getting on borderlands and i will kill you ...\n",
       "2  Borderlands          1  im coming on borderlands and i will murder you...\n",
       "3  Borderlands          1  im getting on borderlands 2 and i will murder ...\n",
       "4  Borderlands          1  im getting into borderlands and i can murder y..."
      ]
     },
     "execution_count": 16,
     "metadata": {},
     "output_type": "execute_result"
    }
   ],
   "source": [
    "testData = Data\n",
    "testData.head()"
   ]
  },
  {
   "cell_type": "code",
   "execution_count": 17,
   "metadata": {},
   "outputs": [
    {
     "data": {
      "text/html": [
       "<div>\n",
       "<style scoped>\n",
       "    .dataframe tbody tr th:only-of-type {\n",
       "        vertical-align: middle;\n",
       "    }\n",
       "\n",
       "    .dataframe tbody tr th {\n",
       "        vertical-align: top;\n",
       "    }\n",
       "\n",
       "    .dataframe thead th {\n",
       "        text-align: right;\n",
       "    }\n",
       "</style>\n",
       "<table border=\"1\" class=\"dataframe\">\n",
       "  <thead>\n",
       "    <tr style=\"text-align: right;\">\n",
       "      <th></th>\n",
       "      <th>Entity</th>\n",
       "      <th>Sentiment</th>\n",
       "      <th>Text</th>\n",
       "    </tr>\n",
       "  </thead>\n",
       "  <tbody>\n",
       "    <tr>\n",
       "      <th>0</th>\n",
       "      <td>Borderlands</td>\n",
       "      <td>1</td>\n",
       "      <td>Borderlands I am coming to the borders and I w...</td>\n",
       "    </tr>\n",
       "    <tr>\n",
       "      <th>1</th>\n",
       "      <td>Borderlands</td>\n",
       "      <td>1</td>\n",
       "      <td>Borderlands im getting on borderlands and i wi...</td>\n",
       "    </tr>\n",
       "    <tr>\n",
       "      <th>2</th>\n",
       "      <td>Borderlands</td>\n",
       "      <td>1</td>\n",
       "      <td>Borderlands im coming on borderlands and i wil...</td>\n",
       "    </tr>\n",
       "    <tr>\n",
       "      <th>3</th>\n",
       "      <td>Borderlands</td>\n",
       "      <td>1</td>\n",
       "      <td>Borderlands im getting on borderlands 2 and i ...</td>\n",
       "    </tr>\n",
       "    <tr>\n",
       "      <th>4</th>\n",
       "      <td>Borderlands</td>\n",
       "      <td>1</td>\n",
       "      <td>Borderlands im getting into borderlands and i ...</td>\n",
       "    </tr>\n",
       "  </tbody>\n",
       "</table>\n",
       "</div>"
      ],
      "text/plain": [
       "        Entity  Sentiment                                               Text\n",
       "0  Borderlands          1  Borderlands I am coming to the borders and I w...\n",
       "1  Borderlands          1  Borderlands im getting on borderlands and i wi...\n",
       "2  Borderlands          1  Borderlands im coming on borderlands and i wil...\n",
       "3  Borderlands          1  Borderlands im getting on borderlands 2 and i ...\n",
       "4  Borderlands          1  Borderlands im getting into borderlands and i ..."
      ]
     },
     "execution_count": 17,
     "metadata": {},
     "output_type": "execute_result"
    }
   ],
   "source": [
    "# Combining Sentiment and Text columns to form one column\n",
    "testData['Text'] = testData['Entity'].str.cat(testData['Text'], sep=\" \")\n",
    "testData.head()"
   ]
  },
  {
   "cell_type": "code",
   "execution_count": 18,
   "metadata": {},
   "outputs": [
    {
     "data": {
      "text/html": [
       "<div>\n",
       "<style scoped>\n",
       "    .dataframe tbody tr th:only-of-type {\n",
       "        vertical-align: middle;\n",
       "    }\n",
       "\n",
       "    .dataframe tbody tr th {\n",
       "        vertical-align: top;\n",
       "    }\n",
       "\n",
       "    .dataframe thead th {\n",
       "        text-align: right;\n",
       "    }\n",
       "</style>\n",
       "<table border=\"1\" class=\"dataframe\">\n",
       "  <thead>\n",
       "    <tr style=\"text-align: right;\">\n",
       "      <th></th>\n",
       "      <th>Sentiment</th>\n",
       "      <th>Text</th>\n",
       "    </tr>\n",
       "  </thead>\n",
       "  <tbody>\n",
       "    <tr>\n",
       "      <th>0</th>\n",
       "      <td>1</td>\n",
       "      <td>Borderlands I am coming to the borders and I w...</td>\n",
       "    </tr>\n",
       "    <tr>\n",
       "      <th>1</th>\n",
       "      <td>1</td>\n",
       "      <td>Borderlands im getting on borderlands and i wi...</td>\n",
       "    </tr>\n",
       "    <tr>\n",
       "      <th>2</th>\n",
       "      <td>1</td>\n",
       "      <td>Borderlands im coming on borderlands and i wil...</td>\n",
       "    </tr>\n",
       "    <tr>\n",
       "      <th>3</th>\n",
       "      <td>1</td>\n",
       "      <td>Borderlands im getting on borderlands 2 and i ...</td>\n",
       "    </tr>\n",
       "    <tr>\n",
       "      <th>4</th>\n",
       "      <td>1</td>\n",
       "      <td>Borderlands im getting into borderlands and i ...</td>\n",
       "    </tr>\n",
       "  </tbody>\n",
       "</table>\n",
       "</div>"
      ],
      "text/plain": [
       "   Sentiment                                               Text\n",
       "0          1  Borderlands I am coming to the borders and I w...\n",
       "1          1  Borderlands im getting on borderlands and i wi...\n",
       "2          1  Borderlands im coming on borderlands and i wil...\n",
       "3          1  Borderlands im getting on borderlands 2 and i ...\n",
       "4          1  Borderlands im getting into borderlands and i ..."
      ]
     },
     "execution_count": 18,
     "metadata": {},
     "output_type": "execute_result"
    }
   ],
   "source": [
    "# Drop Entitiy column table\n",
    "\n",
    "testData.drop(columns=\"Entity\", inplace=True)\n",
    "testData.head()"
   ]
  },
  {
   "cell_type": "code",
   "execution_count": 19,
   "metadata": {},
   "outputs": [
    {
     "data": {
      "text/html": [
       "<div>\n",
       "<style scoped>\n",
       "    .dataframe tbody tr th:only-of-type {\n",
       "        vertical-align: middle;\n",
       "    }\n",
       "\n",
       "    .dataframe tbody tr th {\n",
       "        vertical-align: top;\n",
       "    }\n",
       "\n",
       "    .dataframe thead th {\n",
       "        text-align: right;\n",
       "    }\n",
       "</style>\n",
       "<table border=\"1\" class=\"dataframe\">\n",
       "  <thead>\n",
       "    <tr style=\"text-align: right;\">\n",
       "      <th></th>\n",
       "      <th>3364</th>\n",
       "      <th>Facebook</th>\n",
       "      <th>Irrelevant</th>\n",
       "      <th>I mentioned on Facebook that I was struggling for motivation to go for a run the other day, which has been translated by Tom’s great auntie as ‘Hayley can’t get out of bed’ and told to his grandma, who now thinks I’m a lazy, terrible person 🤣</th>\n",
       "    </tr>\n",
       "  </thead>\n",
       "  <tbody>\n",
       "    <tr>\n",
       "      <th>0</th>\n",
       "      <td>352</td>\n",
       "      <td>Amazon</td>\n",
       "      <td>Neutral</td>\n",
       "      <td>BBC News - Amazon boss Jeff Bezos rejects clai...</td>\n",
       "    </tr>\n",
       "    <tr>\n",
       "      <th>1</th>\n",
       "      <td>8312</td>\n",
       "      <td>Microsoft</td>\n",
       "      <td>Negative</td>\n",
       "      <td>@Microsoft Why do I pay for WORD when it funct...</td>\n",
       "    </tr>\n",
       "    <tr>\n",
       "      <th>2</th>\n",
       "      <td>4371</td>\n",
       "      <td>CS-GO</td>\n",
       "      <td>Negative</td>\n",
       "      <td>CSGO matchmaking is so full of closet hacking,...</td>\n",
       "    </tr>\n",
       "    <tr>\n",
       "      <th>3</th>\n",
       "      <td>4433</td>\n",
       "      <td>Google</td>\n",
       "      <td>Neutral</td>\n",
       "      <td>Now the President is slapping Americans in the...</td>\n",
       "    </tr>\n",
       "    <tr>\n",
       "      <th>4</th>\n",
       "      <td>6273</td>\n",
       "      <td>FIFA</td>\n",
       "      <td>Negative</td>\n",
       "      <td>Hi @EAHelp I’ve had Madeleine McCann in my cel...</td>\n",
       "    </tr>\n",
       "  </tbody>\n",
       "</table>\n",
       "</div>"
      ],
      "text/plain": [
       "   3364   Facebook Irrelevant  \\\n",
       "0   352     Amazon    Neutral   \n",
       "1  8312  Microsoft   Negative   \n",
       "2  4371      CS-GO   Negative   \n",
       "3  4433     Google    Neutral   \n",
       "4  6273       FIFA   Negative   \n",
       "\n",
       "  I mentioned on Facebook that I was struggling for motivation to go for a run the other day, which has been translated by Tom’s great auntie as ‘Hayley can’t get out of bed’ and told to his grandma, who now thinks I’m a lazy, terrible person 🤣  \n",
       "0  BBC News - Amazon boss Jeff Bezos rejects clai...                                                                                                                                                                                                  \n",
       "1  @Microsoft Why do I pay for WORD when it funct...                                                                                                                                                                                                  \n",
       "2  CSGO matchmaking is so full of closet hacking,...                                                                                                                                                                                                  \n",
       "3  Now the President is slapping Americans in the...                                                                                                                                                                                                  \n",
       "4  Hi @EAHelp I’ve had Madeleine McCann in my cel...                                                                                                                                                                                                  "
      ]
     },
     "execution_count": 19,
     "metadata": {},
     "output_type": "execute_result"
    }
   ],
   "source": [
    "# explore and clean validation dataset\n",
    "\n",
    "# open val data\n",
    "valData = pd.read_csv('./Dataset/twitter_validation.csv')\n",
    "valData.head()"
   ]
  },
  {
   "cell_type": "code",
   "execution_count": 20,
   "metadata": {},
   "outputs": [
    {
     "data": {
      "text/plain": [
       "Index(['3364', 'Facebook', 'Irrelevant',\n",
       "       'I mentioned on Facebook that I was struggling for motivation to go for a run the other day, which has been translated by Tom’s great auntie as ‘Hayley can’t get out of bed’ and told to his grandma, who now thinks I’m a lazy, terrible person 🤣'],\n",
       "      dtype='object')"
      ]
     },
     "execution_count": 20,
     "metadata": {},
     "output_type": "execute_result"
    }
   ],
   "source": [
    "# know the columns in our dataset\n",
    "valData.columns"
   ]
  },
  {
   "cell_type": "code",
   "execution_count": 21,
   "metadata": {},
   "outputs": [
    {
     "data": {
      "text/html": [
       "<div>\n",
       "<style scoped>\n",
       "    .dataframe tbody tr th:only-of-type {\n",
       "        vertical-align: middle;\n",
       "    }\n",
       "\n",
       "    .dataframe tbody tr th {\n",
       "        vertical-align: top;\n",
       "    }\n",
       "\n",
       "    .dataframe thead th {\n",
       "        text-align: right;\n",
       "    }\n",
       "</style>\n",
       "<table border=\"1\" class=\"dataframe\">\n",
       "  <thead>\n",
       "    <tr style=\"text-align: right;\">\n",
       "      <th></th>\n",
       "      <th>#Text</th>\n",
       "      <th>Entity</th>\n",
       "      <th>Sentiment</th>\n",
       "      <th>Text</th>\n",
       "    </tr>\n",
       "  </thead>\n",
       "  <tbody>\n",
       "    <tr>\n",
       "      <th>0</th>\n",
       "      <td>352</td>\n",
       "      <td>Amazon</td>\n",
       "      <td>Neutral</td>\n",
       "      <td>BBC News - Amazon boss Jeff Bezos rejects clai...</td>\n",
       "    </tr>\n",
       "    <tr>\n",
       "      <th>1</th>\n",
       "      <td>8312</td>\n",
       "      <td>Microsoft</td>\n",
       "      <td>Negative</td>\n",
       "      <td>@Microsoft Why do I pay for WORD when it funct...</td>\n",
       "    </tr>\n",
       "    <tr>\n",
       "      <th>2</th>\n",
       "      <td>4371</td>\n",
       "      <td>CS-GO</td>\n",
       "      <td>Negative</td>\n",
       "      <td>CSGO matchmaking is so full of closet hacking,...</td>\n",
       "    </tr>\n",
       "    <tr>\n",
       "      <th>3</th>\n",
       "      <td>4433</td>\n",
       "      <td>Google</td>\n",
       "      <td>Neutral</td>\n",
       "      <td>Now the President is slapping Americans in the...</td>\n",
       "    </tr>\n",
       "    <tr>\n",
       "      <th>4</th>\n",
       "      <td>6273</td>\n",
       "      <td>FIFA</td>\n",
       "      <td>Negative</td>\n",
       "      <td>Hi @EAHelp I’ve had Madeleine McCann in my cel...</td>\n",
       "    </tr>\n",
       "  </tbody>\n",
       "</table>\n",
       "</div>"
      ],
      "text/plain": [
       "   #Text     Entity Sentiment  \\\n",
       "0    352     Amazon   Neutral   \n",
       "1   8312  Microsoft  Negative   \n",
       "2   4371      CS-GO  Negative   \n",
       "3   4433     Google   Neutral   \n",
       "4   6273       FIFA  Negative   \n",
       "\n",
       "                                                Text  \n",
       "0  BBC News - Amazon boss Jeff Bezos rejects clai...  \n",
       "1  @Microsoft Why do I pay for WORD when it funct...  \n",
       "2  CSGO matchmaking is so full of closet hacking,...  \n",
       "3  Now the President is slapping Americans in the...  \n",
       "4  Hi @EAHelp I’ve had Madeleine McCann in my cel...  "
      ]
     },
     "execution_count": 21,
     "metadata": {},
     "output_type": "execute_result"
    }
   ],
   "source": [
    "# change Dataset columns\n",
    "valData.rename(columns={\"3364\": \"#Text\", \"Facebook\": \"Entity\", \"Irrelevant\": \"Sentiment\", \n",
    "                     \"I mentioned on Facebook that I was struggling for motivation to go for a run the other day, which has been translated by Tom’s great auntie as ‘Hayley can’t get out of bed’ and told to his grandma, who now thinks I’m a lazy, terrible person 🤣\": \"Text\"}, inplace=True)\n",
    "valData.head()"
   ]
  },
  {
   "cell_type": "code",
   "execution_count": 22,
   "metadata": {},
   "outputs": [],
   "source": [
    "# Encode Sentiments into values\n",
    "valData['Sentiment'].replace({'Positive': 1, 'Negative': 0, 'Neutral': 2, 'Irrelevant': 3}, inplace=True)"
   ]
  },
  {
   "cell_type": "code",
   "execution_count": 23,
   "metadata": {},
   "outputs": [
    {
     "data": {
      "text/html": [
       "<div>\n",
       "<style scoped>\n",
       "    .dataframe tbody tr th:only-of-type {\n",
       "        vertical-align: middle;\n",
       "    }\n",
       "\n",
       "    .dataframe tbody tr th {\n",
       "        vertical-align: top;\n",
       "    }\n",
       "\n",
       "    .dataframe thead th {\n",
       "        text-align: right;\n",
       "    }\n",
       "</style>\n",
       "<table border=\"1\" class=\"dataframe\">\n",
       "  <thead>\n",
       "    <tr style=\"text-align: right;\">\n",
       "      <th></th>\n",
       "      <th>#Text</th>\n",
       "      <th>Entity</th>\n",
       "      <th>Sentiment</th>\n",
       "      <th>Text</th>\n",
       "    </tr>\n",
       "  </thead>\n",
       "  <tbody>\n",
       "    <tr>\n",
       "      <th>0</th>\n",
       "      <td>352</td>\n",
       "      <td>Amazon</td>\n",
       "      <td>2</td>\n",
       "      <td>Amazon BBC News - Amazon boss Jeff Bezos rejec...</td>\n",
       "    </tr>\n",
       "    <tr>\n",
       "      <th>1</th>\n",
       "      <td>8312</td>\n",
       "      <td>Microsoft</td>\n",
       "      <td>0</td>\n",
       "      <td>Microsoft @Microsoft Why do I pay for WORD whe...</td>\n",
       "    </tr>\n",
       "    <tr>\n",
       "      <th>2</th>\n",
       "      <td>4371</td>\n",
       "      <td>CS-GO</td>\n",
       "      <td>0</td>\n",
       "      <td>CS-GO CSGO matchmaking is so full of closet ha...</td>\n",
       "    </tr>\n",
       "    <tr>\n",
       "      <th>3</th>\n",
       "      <td>4433</td>\n",
       "      <td>Google</td>\n",
       "      <td>2</td>\n",
       "      <td>Google Now the President is slapping Americans...</td>\n",
       "    </tr>\n",
       "    <tr>\n",
       "      <th>4</th>\n",
       "      <td>6273</td>\n",
       "      <td>FIFA</td>\n",
       "      <td>0</td>\n",
       "      <td>FIFA Hi @EAHelp I’ve had Madeleine McCann in m...</td>\n",
       "    </tr>\n",
       "  </tbody>\n",
       "</table>\n",
       "</div>"
      ],
      "text/plain": [
       "   #Text     Entity  Sentiment  \\\n",
       "0    352     Amazon          2   \n",
       "1   8312  Microsoft          0   \n",
       "2   4371      CS-GO          0   \n",
       "3   4433     Google          2   \n",
       "4   6273       FIFA          0   \n",
       "\n",
       "                                                Text  \n",
       "0  Amazon BBC News - Amazon boss Jeff Bezos rejec...  \n",
       "1  Microsoft @Microsoft Why do I pay for WORD whe...  \n",
       "2  CS-GO CSGO matchmaking is so full of closet ha...  \n",
       "3  Google Now the President is slapping Americans...  \n",
       "4  FIFA Hi @EAHelp I’ve had Madeleine McCann in m...  "
      ]
     },
     "execution_count": 23,
     "metadata": {},
     "output_type": "execute_result"
    }
   ],
   "source": [
    "# merge\n",
    "# Combining Sentiment and Text columsn to form one column\n",
    "valData['Text'] = valData['Entity'].str.cat(valData['Text'], sep=\" \")\n",
    "valData.head()"
   ]
  },
  {
   "cell_type": "code",
   "execution_count": 24,
   "metadata": {},
   "outputs": [
    {
     "data": {
      "text/html": [
       "<div>\n",
       "<style scoped>\n",
       "    .dataframe tbody tr th:only-of-type {\n",
       "        vertical-align: middle;\n",
       "    }\n",
       "\n",
       "    .dataframe tbody tr th {\n",
       "        vertical-align: top;\n",
       "    }\n",
       "\n",
       "    .dataframe thead th {\n",
       "        text-align: right;\n",
       "    }\n",
       "</style>\n",
       "<table border=\"1\" class=\"dataframe\">\n",
       "  <thead>\n",
       "    <tr style=\"text-align: right;\">\n",
       "      <th></th>\n",
       "      <th>#Text</th>\n",
       "      <th>Sentiment</th>\n",
       "      <th>Text</th>\n",
       "    </tr>\n",
       "  </thead>\n",
       "  <tbody>\n",
       "    <tr>\n",
       "      <th>0</th>\n",
       "      <td>352</td>\n",
       "      <td>2</td>\n",
       "      <td>Amazon BBC News - Amazon boss Jeff Bezos rejec...</td>\n",
       "    </tr>\n",
       "    <tr>\n",
       "      <th>1</th>\n",
       "      <td>8312</td>\n",
       "      <td>0</td>\n",
       "      <td>Microsoft @Microsoft Why do I pay for WORD whe...</td>\n",
       "    </tr>\n",
       "    <tr>\n",
       "      <th>2</th>\n",
       "      <td>4371</td>\n",
       "      <td>0</td>\n",
       "      <td>CS-GO CSGO matchmaking is so full of closet ha...</td>\n",
       "    </tr>\n",
       "    <tr>\n",
       "      <th>3</th>\n",
       "      <td>4433</td>\n",
       "      <td>2</td>\n",
       "      <td>Google Now the President is slapping Americans...</td>\n",
       "    </tr>\n",
       "    <tr>\n",
       "      <th>4</th>\n",
       "      <td>6273</td>\n",
       "      <td>0</td>\n",
       "      <td>FIFA Hi @EAHelp I’ve had Madeleine McCann in m...</td>\n",
       "    </tr>\n",
       "  </tbody>\n",
       "</table>\n",
       "</div>"
      ],
      "text/plain": [
       "   #Text  Sentiment                                               Text\n",
       "0    352          2  Amazon BBC News - Amazon boss Jeff Bezos rejec...\n",
       "1   8312          0  Microsoft @Microsoft Why do I pay for WORD whe...\n",
       "2   4371          0  CS-GO CSGO matchmaking is so full of closet ha...\n",
       "3   4433          2  Google Now the President is slapping Americans...\n",
       "4   6273          0  FIFA Hi @EAHelp I’ve had Madeleine McCann in m..."
      ]
     },
     "execution_count": 24,
     "metadata": {},
     "output_type": "execute_result"
    }
   ],
   "source": [
    "# drop Entitiy column from valData\n",
    "valData.drop(columns=\"Entity\", inplace=True)\n",
    "valData.head()"
   ]
  },
  {
   "cell_type": "code",
   "execution_count": 25,
   "metadata": {},
   "outputs": [
    {
     "data": {
      "text/plain": [
       "0"
      ]
     },
     "execution_count": 25,
     "metadata": {},
     "output_type": "execute_result"
    }
   ],
   "source": [
    "# determine if there are duplicates\n",
    "valData.duplicated().sum()"
   ]
  },
  {
   "cell_type": "code",
   "execution_count": 26,
   "metadata": {},
   "outputs": [
    {
     "data": {
      "text/plain": [
       "(999, 3)"
      ]
     },
     "execution_count": 26,
     "metadata": {},
     "output_type": "execute_result"
    }
   ],
   "source": [
    "# valData size\n",
    "valData.shape"
   ]
  },
  {
   "cell_type": "code",
   "execution_count": 27,
   "metadata": {},
   "outputs": [],
   "source": [
    "# one-hot encoding on sentiments (y-values)\n",
    "# split the dataset as well\n",
    "from sklearn.preprocessing import LabelEncoder\n",
    "from sklearn.model_selection import train_test_split\n",
    "\n",
    "lencoder = LabelEncoder()\n",
    "\n",
    "# train-test split -> 80-20 split\n",
    "xTrain, xTest, yTrain, yTest = train_test_split(testData['Text'], testData['Sentiment'], shuffle=True, test_size=0.2)\n",
    "\n",
    "#one-hot encoding\n",
    "yTrain = lencoder.fit_transform(yTrain)\n",
    "yTest = lencoder.fit_transform(yTest)\n",
    "\n",
    "yTrain = tf.one_hot(yTrain, depth=len(lencoder.classes_))\n",
    "yTest = tf.one_hot(yTest, depth=len(lencoder.classes_))"
   ]
  },
  {
   "cell_type": "code",
   "execution_count": 28,
   "metadata": {},
   "outputs": [],
   "source": [
    "xTrain = xTrain.astype(str)\n",
    "xTest = xTest.astype(str)"
   ]
  },
  {
   "cell_type": "code",
   "execution_count": 29,
   "metadata": {},
   "outputs": [],
   "source": [
    "# one-hot enocding for valData and segmenting\n",
    "valX = valData['Text'].values\n",
    "valX = valX.astype(str)\n",
    "\n",
    "# one-hot encoding\n",
    "valY = lencoder.fit_transform(valData['Sentiment'].values)\n",
    "valY = tf.one_hot(valY, depth=len(lencoder.classes_))"
   ]
  },
  {
   "cell_type": "code",
   "execution_count": 29,
   "metadata": {},
   "outputs": [],
   "source": [
    "# Encode Text Sentiments for testData\n",
    "\n",
    "from tensorflow.keras.layers import TextVectorization\n",
    "\n",
    "# Create a TextVectorization layer\n",
    "vectorizer = TextVectorization(max_tokens=50000, output_mode='int', output_sequence_length=15)\n",
    "\n",
    "# adapt with trainData\n",
    "vectorizer.adapt(xTrain)\n",
    "\n",
    "# Build Sentiment model\n",
    "model = tf.keras.Sequential([\n",
    "    tf.keras.layers.Input(shape=(1,), dtype=tf.string),\n",
    "    vectorizer,\n",
    "    tf.keras.layers.Embedding(len(vectorizer.get_vocabulary()), 64, mask_zero=True),\n",
    "    tf.keras.layers.Bidirectional(tf.keras.layers.LSTM(64, return_sequences=True)),\n",
    "    tf.keras.layers.Bidirectional(tf.keras.layers.LSTM(32)),\n",
    "    tf.keras.layers.Dense(64, activation='relu'),\n",
    "    tf.keras.layers.Dropout(0.5),\n",
    "    tf.keras.layers.Dense(4, activation='softmax')\n",
    "])\n",
    "\n",
    "model.compile(optimizer=\"adam\", loss=tf.keras.losses.categorical_crossentropy, metrics=['accuracy'])"
   ]
  },
  {
   "cell_type": "code",
   "execution_count": 30,
   "metadata": {},
   "outputs": [
    {
     "name": "stdout",
     "output_type": "stream",
     "text": [
      "Epoch 1/10\n",
      "1920/1920 [==============================] - 133s 60ms/step - loss: 0.8716 - accuracy: 0.6556 - val_loss: 0.3674 - val_accuracy: 0.8709\n",
      "Epoch 2/10\n",
      "1920/1920 [==============================] - 123s 64ms/step - loss: 0.4285 - accuracy: 0.8478 - val_loss: 0.2179 - val_accuracy: 0.9319\n",
      "Epoch 3/10\n",
      "1920/1920 [==============================] - 123s 64ms/step - loss: 0.2732 - accuracy: 0.9008 - val_loss: 0.1916 - val_accuracy: 0.9369\n",
      "Epoch 4/10\n",
      "1920/1920 [==============================] - 124s 64ms/step - loss: 0.2002 - accuracy: 0.9260 - val_loss: 0.1794 - val_accuracy: 0.9510\n",
      "Epoch 5/10\n",
      "1920/1920 [==============================] - 149s 77ms/step - loss: 0.1598 - accuracy: 0.9397 - val_loss: 0.1635 - val_accuracy: 0.9610\n",
      "Epoch 6/10\n",
      "1920/1920 [==============================] - 135s 70ms/step - loss: 0.1303 - accuracy: 0.9500 - val_loss: 0.1929 - val_accuracy: 0.9560\n",
      "Epoch 7/10\n",
      "1920/1920 [==============================] - 131s 68ms/step - loss: 0.1134 - accuracy: 0.9556 - val_loss: 0.2050 - val_accuracy: 0.9570\n",
      "Epoch 8/10\n",
      "1920/1920 [==============================] - 118s 62ms/step - loss: 0.1001 - accuracy: 0.9606 - val_loss: 0.2046 - val_accuracy: 0.9560\n",
      "Epoch 9/10\n",
      "1920/1920 [==============================] - 117s 61ms/step - loss: 0.0885 - accuracy: 0.9640 - val_loss: 0.2636 - val_accuracy: 0.9610\n",
      "Epoch 10/10\n",
      "1920/1920 [==============================] - 120s 63ms/step - loss: 0.0833 - accuracy: 0.9659 - val_loss: 0.2178 - val_accuracy: 0.9640\n"
     ]
    },
    {
     "data": {
      "text/plain": [
       "<keras.src.callbacks.History at 0x17b335c4850>"
      ]
     },
     "execution_count": 30,
     "metadata": {},
     "output_type": "execute_result"
    }
   ],
   "source": [
    "# train model\n",
    "\n",
    "# Training call-backs\n",
    "terminationProtocol = tf.keras.callbacks.EarlyStopping(\n",
    "    monitor='loss',\n",
    "    patience=8,\n",
    "    restore_best_weights=True\n",
    ")\n",
    "\n",
    "model.fit(xTrain,\n",
    "          yTrain, \n",
    "          epochs=10,\n",
    "          batch_size=30,\n",
    "          validation_data=(valX, valY),\n",
    "          shuffle=True,\n",
    "          callbacks=[terminationProtocol])"
   ]
  },
  {
   "cell_type": "code",
   "execution_count": 31,
   "metadata": {},
   "outputs": [
    {
     "name": "stdout",
     "output_type": "stream",
     "text": [
      "INFO:tensorflow:Assets written to: Sentiment-Model.tf\\assets\n"
     ]
    },
    {
     "name": "stderr",
     "output_type": "stream",
     "text": [
      "INFO:tensorflow:Assets written to: Sentiment-Model.tf\\assets\n"
     ]
    }
   ],
   "source": [
    "# save model for reuse/future\n",
    "model.save('Sentiment-Model.tf')"
   ]
  },
  {
   "cell_type": "code",
   "execution_count": 35,
   "metadata": {},
   "outputs": [
    {
     "name": "stdout",
     "output_type": "stream",
     "text": [
      "450/450 [==============================] - 4s 9ms/step - loss: 0.7256 - accuracy: 0.8617\n"
     ]
    },
    {
     "data": {
      "text/plain": [
       "[0.7256035208702087, 0.861707329750061]"
      ]
     },
     "execution_count": 35,
     "metadata": {},
     "output_type": "execute_result"
    }
   ],
   "source": [
    "# Evaluate the model on data outside its training data..\n",
    "model.evaluate(xTest.values, yTest)"
   ]
  },
  {
   "cell_type": "code",
   "execution_count": 52,
   "metadata": {},
   "outputs": [
    {
     "name": "stdout",
     "output_type": "stream",
     "text": [
      "1/1 [==============================] - 0s 50ms/step\n"
     ]
    }
   ],
   "source": [
    "# Let's test the model out\n",
    "\n",
    "text = \"Amazon That was bad delivery\" # Text is in 2 parts 'entity n text' -> Amazon is the entity, what follows is the text\n",
    "\n",
    "pred = model.predict([text])"
   ]
  },
  {
   "cell_type": "code",
   "execution_count": 53,
   "metadata": {},
   "outputs": [
    {
     "data": {
      "text/plain": [
       "array([[0.8514418 , 0.03204292, 0.08525458, 0.03126077]], dtype=float32)"
      ]
     },
     "execution_count": 53,
     "metadata": {},
     "output_type": "execute_result"
    }
   ],
   "source": [
    "# tensor output of the final prediction\n",
    "pred"
   ]
  },
  {
   "cell_type": "code",
   "execution_count": 55,
   "metadata": {},
   "outputs": [
    {
     "name": "stdout",
     "output_type": "stream",
     "text": [
      "Negative\n"
     ]
    }
   ],
   "source": [
    "# lets see the user readable output\n",
    "sentiment = np.argmax(pred)\n",
    "\n",
    "if sentiment == 0:\n",
    "    print(\"Negative\")\n",
    "elif sentiment == 1:\n",
    "    print(\"Positive\")\n",
    "elif sentiment == 2:\n",
    "    print(\"Neutral\")\n",
    "else:\n",
    "    print(\"Irrelevant\")"
   ]
  },
  {
   "cell_type": "code",
   "execution_count": 30,
   "metadata": {},
   "outputs": [],
   "source": [
    "# reload the model\n",
    "model = tf.keras.models.load_model(\"Sentiment-Model.tf\")"
   ]
  },
  {
   "cell_type": "code",
   "execution_count": 31,
   "metadata": {},
   "outputs": [
    {
     "name": "stdout",
     "output_type": "stream",
     "text": [
      "32/32 [==============================] - 6s 10ms/step - loss: 0.2369 - accuracy: 0.9460\n"
     ]
    },
    {
     "data": {
      "text/plain": [
       "[0.23690973222255707, 0.9459999799728394]"
      ]
     },
     "execution_count": 31,
     "metadata": {},
     "output_type": "execute_result"
    }
   ],
   "source": [
    "# lets evaluate it on a some (not all) of our testData\n",
    "\n",
    "# segment some part of testData for evaluation\n",
    "# decided to use 1000...which is quiet alot testData\n",
    "dataX = xTest.values[:1000]\n",
    "dataY = yTest[:1000] \n",
    "\n",
    "# evaluate model\n",
    "model.evaluate(dataX, dataY)"
   ]
  },
  {
   "cell_type": "code",
   "execution_count": 32,
   "metadata": {},
   "outputs": [
    {
     "name": "stdout",
     "output_type": "stream",
     "text": [
      "1/1 [==============================] - 5s 5s/step\n"
     ]
    },
    {
     "data": {
      "text/plain": [
       "array([[1.3686526e-03, 9.9510843e-01, 3.1261600e-03, 3.9664903e-04]],\n",
       "      dtype=float32)"
      ]
     },
     "execution_count": 32,
     "metadata": {},
     "output_type": "execute_result"
    }
   ],
   "source": [
    "# lets use in the way we will in production\n",
    "\n",
    "text = \"Amazon Got a good service delivery.\"\n",
    "# the text is made up of two parts: the entity and the text\n",
    "# for text, entity is Amazon and the text is what proceeds after\n",
    "\n",
    "# using the model to determine the prediction\n",
    "sentiment = model.predict([text]) # value must be put in an array\n",
    "sentiment"
   ]
  },
  {
   "cell_type": "code",
   "execution_count": 33,
   "metadata": {},
   "outputs": [
    {
     "name": "stdout",
     "output_type": "stream",
     "text": [
      "Positive\n"
     ]
    }
   ],
   "source": [
    "# determine which class the text-sentiment belongs to\n",
    "res = np.argmax(sentiment)\n",
    "\n",
    "if res == 0:\n",
    "    print(\"Negative\")\n",
    "elif res == 1:\n",
    "    print(\"Positive\")\n",
    "elif res == 2:\n",
    "    print(\"Neutral\")\n",
    "else:\n",
    "    print(\"Irrelevant\")"
   ]
  }
 ],
 "metadata": {
  "kernelspec": {
   "display_name": "Python 3",
   "language": "python",
   "name": "python3"
  },
  "language_info": {
   "codemirror_mode": {
    "name": "ipython",
    "version": 3
   },
   "file_extension": ".py",
   "mimetype": "text/x-python",
   "name": "python",
   "nbconvert_exporter": "python",
   "pygments_lexer": "ipython3",
   "version": "3.11.6"
  }
 },
 "nbformat": 4,
 "nbformat_minor": 2
}
